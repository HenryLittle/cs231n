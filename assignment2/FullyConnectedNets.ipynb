{
 "cells": [
  {
   "cell_type": "code",
   "execution_count": 96,
   "metadata": {
    "colab": {
     "autoexec": {
      "startup": false,
      "wait_interval": 0
     },
     "base_uri": "https://localhost:8080/",
     "height": 173,
     "output_extras": [
      {
       "item_id": 4
      },
      {
       "item_id": 5
      },
      {
       "item_id": 6
      }
     ]
    },
    "colab_type": "code",
    "executionInfo": {
     "elapsed": 22245,
     "status": "ok",
     "timestamp": 1518690780685,
     "user": {
      "displayName": "Henry Little",
      "photoUrl": "//lh5.googleusercontent.com/-Wl83hLUNubE/AAAAAAAAAAI/AAAAAAAAA3w/vhaG9oTCOsM/s50-c-k-no/photo.jpg",
      "userId": "104571081462489304112"
     },
     "user_tz": -480
    },
    "id": "fsJvtdq198U7",
    "outputId": "4b0b12e0-ff94-4488-82a6-b8442f53ac86"
   },
   "outputs": [
    {
     "name": "stdout",
     "output_type": "stream",
     "text": [
      "gpg: keybox '/tmp/tmplr8lmfxj/pubring.gpg' created\n",
      "gpg: /tmp/tmplr8lmfxj/trustdb.gpg: trustdb created\n",
      "gpg: key AD5F235DF639B041: public key \"Launchpad PPA for Alessandro Strada\" imported\n",
      "gpg: Total number processed: 1\n",
      "gpg:               imported: 1\n",
      "Warning: apt-key output should not be parsed (stdout is not a terminal)\n"
     ]
    },
    {
     "name": "stderr",
     "output_type": "stream",
     "text": [
      "WARNING:google.auth._default:No project ID could be determined. Consider running `gcloud config set project` or setting the GOOGLE_CLOUD_PROJECT environment variable\n"
     ]
    },
    {
     "name": "stdout",
     "output_type": "stream",
     "text": [
      "··········\n"
     ]
    }
   ],
   "source": [
    "!apt-get install -y -qq software-properties-common python-software-properties module-init-tools\n",
    "!add-apt-repository -y ppa:alessandro-strada/ppa 2>&1 > /dev/null\n",
    "!apt-get update -qq 2>&1 > /dev/null\n",
    "!apt-get -y install -qq google-drive-ocamlfuse fuse\n",
    "from google.colab import auth\n",
    "auth.authenticate_user()\n",
    "from oauth2client.client import GoogleCredentials\n",
    "creds = GoogleCredentials.get_application_default()\n",
    "import getpass\n",
    "!google-drive-ocamlfuse -headless -id={creds.client_id} -secret={creds.client_secret} < /dev/null 2>&1 | grep URL\n",
    "vcode = getpass.getpass()\n",
    "!echo {vcode} | google-drive-ocamlfuse -headless -id={creds.client_id} -secret={creds.client_secret}\n",
    "\n"
   ]
  },
  {
   "cell_type": "code",
   "execution_count": 0,
   "metadata": {
    "colab": {
     "autoexec": {
      "startup": false,
      "wait_interval": 0
     }
    },
    "colab_type": "code",
    "id": "p9AXzG1aEU2N"
   },
   "outputs": [],
   "source": [
    "# A bit of setup\n",
    "!mkdir -p drive\n",
    "!google-drive-ocamlfuse drive"
   ]
  },
  {
   "cell_type": "code",
   "execution_count": 98,
   "metadata": {
    "colab": {
     "autoexec": {
      "startup": false,
      "wait_interval": 0
     },
     "base_uri": "https://localhost:8080/",
     "height": 102,
     "output_extras": [
      {
       "item_id": 1
      }
     ]
    },
    "colab_type": "code",
    "executionInfo": {
     "elapsed": 1286,
     "status": "ok",
     "timestamp": 1518690783573,
     "user": {
      "displayName": "Henry Little",
      "photoUrl": "//lh5.googleusercontent.com/-Wl83hLUNubE/AAAAAAAAAAI/AAAAAAAAA3w/vhaG9oTCOsM/s50-c-k-no/photo.jpg",
      "userId": "104571081462489304112"
     },
     "user_tz": -480
    },
    "id": "nPLfNYADGT8M",
    "outputId": "61f7908a-4120-4748-de25-ebd65f171988"
   },
   "outputs": [
    {
     "name": "stdout",
     "output_type": "stream",
     "text": [
      "BatchNormalization.ipynb     Dropout.ipynb\t       PyTorch.ipynb\r\n",
      "collectSubmission.sh\t     frameworkpython\t       README.md\r\n",
      "ConvolutionalNetworks.ipynb  FullyConnectedNets.ipynb  requirements.txt\r\n",
      "cs231n\t\t\t     kitten.jpg\t\t       start_ipython_osx.sh\r\n",
      "drive\t\t\t     puppy.jpg\t\t       TensorFlow.ipynb\r\n"
     ]
    }
   ],
   "source": [
    "import os\n",
    "os.chdir(\"drive/Python/assignment2\")\n",
    "!ls"
   ]
  },
  {
   "cell_type": "code",
   "execution_count": 0,
   "metadata": {
    "colab": {
     "autoexec": {
      "startup": false,
      "wait_interval": 0
     },
     "base_uri": "https://localhost:8080/",
     "height": 68,
     "output_extras": [
      {}
     ]
    },
    "colab_type": "code",
    "executionInfo": {
     "elapsed": 10667,
     "status": "ok",
     "timestamp": 1518526574500,
     "user": {
      "displayName": "Henry Little",
      "photoUrl": "//lh5.googleusercontent.com/-Wl83hLUNubE/AAAAAAAAAAI/AAAAAAAAA3w/vhaG9oTCOsM/s50-c-k-no/photo.jpg",
      "userId": "104571081462489304112"
     },
     "user_tz": -480
    },
    "id": "KKnNdPZsNiO6",
    "outputId": "d410c9f6-e9b0-4e1d-91fc-ecf79f33c957"
   },
   "outputs": [
    {
     "name": "stdout",
     "output_type": "stream",
     "text": [
      "Requirement already satisfied: Cython in /usr/local/lib/python3.6/dist-packages\n",
      "Warning: Extension name 'im2col_cython' does not match fully qualified name 'cs231n.im2col_cython' of 'im2col_cython.pyx'\n",
      "running build_ext\n"
     ]
    }
   ],
   "source": [
    "!pip install Cython\n",
    "!python setup.py build_ext --inplace\n"
   ]
  },
  {
   "cell_type": "markdown",
   "metadata": {
    "colab_type": "text",
    "id": "sF2xSBpE7ypy"
   },
   "source": [
    "# Fully-Connected Neural Nets\n",
    "In the previous homework you implemented a fully-connected two-layer neural network on CIFAR-10. The implementation was simple but not very modular since the loss and gradient were computed in a single monolithic function. This is manageable for a simple two-layer network, but would become impractical as we move to bigger models. Ideally we want to build networks using a more modular design so that we can implement different layer types in isolation and then snap them together into models with different architectures.\n",
    "\n",
    "In this exercise we will implement fully-connected networks using a more modular approach. For each layer we will implement a `forward` and a `backward` function. The `forward` function will receive inputs, weights, and other parameters and will return both an output and a `cache` object storing data needed for the backward pass, like this:\n",
    "\n",
    "```python\n",
    "def layer_forward(x, w):\n",
    "  \"\"\" Receive inputs x and weights w \"\"\"\n",
    "  # Do some computations ...\n",
    "  z = # ... some intermediate value\n",
    "  # Do some more computations ...\n",
    "  out = # the output\n",
    "   \n",
    "  cache = (x, w, z, out) # Values we need to compute gradients\n",
    "   \n",
    "  return out, cache\n",
    "```\n",
    "\n",
    "The backward pass will receive upstream derivatives and the `cache` object, and will return gradients with respect to the inputs and weights, like this:\n",
    "\n",
    "```python\n",
    "def layer_backward(dout, cache):\n",
    "  \"\"\"\n",
    "  Receive derivative of loss with respect to outputs and cache,\n",
    "  and compute derivative with respect to inputs.\n",
    "  \"\"\"\n",
    "  # Unpack cache values\n",
    "  x, w, z, out = cache\n",
    "  \n",
    "  # Use values in cache to compute derivatives\n",
    "  dx = # Derivative of loss with respect to x\n",
    "  dw = # Derivative of loss with respect to w\n",
    "  \n",
    "  return dx, dw\n",
    "```\n",
    "\n",
    "After implementing a bunch of layers this way, we will be able to easily combine them to build classifiers with different architectures.\n",
    "\n",
    "In addition to implementing fully-connected networks of arbitrary depth, we will also explore different update rules for optimization, and introduce Dropout as a regularizer and Batch Normalization as a tool to more efficiently optimize deep networks.\n",
    "  "
   ]
  },
  {
   "cell_type": "code",
   "execution_count": 1,
   "metadata": {
    "colab": {
     "autoexec": {
      "startup": false,
      "wait_interval": 0
     }
    },
    "colab_type": "code",
    "id": "aVAqh48A7yp2"
   },
   "outputs": [],
   "source": [
    "# As usual, a bit of setup\n",
    "from __future__ import print_function\n",
    "import time\n",
    "import numpy as np\n",
    "import matplotlib.pyplot as plt\n",
    "from cs231n.classifiers.fc_net import *\n",
    "from cs231n.data_utils import get_CIFAR10_data\n",
    "from cs231n.gradient_check import eval_numerical_gradient, eval_numerical_gradient_array\n",
    "from cs231n.solver import Solver\n",
    "\n",
    "%matplotlib inline\n",
    "plt.rcParams['figure.figsize'] = (10.0, 8.0) # set default size of plots\n",
    "plt.rcParams['image.interpolation'] = 'nearest'\n",
    "plt.rcParams['image.cmap'] = 'gray'\n",
    "\n",
    "# for auto-reloading external modules\n",
    "# see http://stackoverflow.com/questions/1907993/autoreload-of-modules-in-ipython\n",
    "%reload_ext autoreload\n",
    "%autoreload 2\n",
    "\n",
    "def rel_error(x, y):\n",
    "  \"\"\" returns relative error \"\"\"\n",
    "  return np.max(np.abs(x - y) / (np.maximum(1e-8, np.abs(x) + np.abs(y))))"
   ]
  },
  {
   "cell_type": "markdown",
   "metadata": {
    "colab_type": "text",
    "id": "_3LXydeQ3VUJ"
   },
   "source": [
    "# Below are some magic to remove the hidden appendix of test_batch\n",
    "Using the ls in on ubuntu to identify the problem\n",
    "Don't understand why would this happen"
   ]
  },
  {
   "cell_type": "code",
   "execution_count": 145,
   "metadata": {
    "colab": {
     "autoexec": {
      "startup": false,
      "wait_interval": 0
     },
     "base_uri": "https://localhost:8080/",
     "height": 34,
     "output_extras": [
      {
       "item_id": 1
      }
     ]
    },
    "colab_type": "code",
    "executionInfo": {
     "elapsed": 42749,
     "status": "ok",
     "timestamp": 1518536892157,
     "user": {
      "displayName": "Henry Little",
      "photoUrl": "//lh5.googleusercontent.com/-Wl83hLUNubE/AAAAAAAAAAI/AAAAAAAAA3w/vhaG9oTCOsM/s50-c-k-no/photo.jpg",
      "userId": "104571081462489304112"
     },
     "user_tz": -480
    },
    "id": "2vREYeHuXqXT",
    "outputId": "eaa75031-74b0-4915-b5dd-8375d81938fd"
   },
   "outputs": [
    {
     "data": {
      "text/plain": [
       "'cs231n/datasets/cifar-10-batches-py/test_batch'"
      ]
     },
     "execution_count": 145,
     "metadata": {
      "tags": []
     },
     "output_type": "execute_result"
    }
   ],
   "source": [
    "from shutil import copyfile\n",
    "copyfile('cs231n/datasets/cifar-10-batches-py/test_batch (e4980128)', 'cs231n/datasets/cifar-10-batches-py/test_batch')"
   ]
  },
  {
   "cell_type": "code",
   "execution_count": 0,
   "metadata": {
    "colab": {
     "autoexec": {
      "startup": false,
      "wait_interval": 0
     }
    },
    "colab_type": "code",
    "id": "SZpTrJTc3AYf"
   },
   "outputs": [],
   "source": [
    "os.remove('cs231n/datasets/cifar-10-batches-py/test_batch (e4980128)')"
   ]
  },
  {
   "cell_type": "code",
   "execution_count": 25,
   "metadata": {
    "colab": {
     "autoexec": {
      "startup": false,
      "wait_interval": 0
     },
     "base_uri": "https://localhost:8080/",
     "height": 204,
     "output_extras": [
      {
       "item_id": 1
      }
     ]
    },
    "colab_type": "code",
    "executionInfo": {
     "elapsed": 1202,
     "status": "ok",
     "timestamp": 1518573498260,
     "user": {
      "displayName": "Henry Little",
      "photoUrl": "//lh5.googleusercontent.com/-Wl83hLUNubE/AAAAAAAAAAI/AAAAAAAAA3w/vhaG9oTCOsM/s50-c-k-no/photo.jpg",
      "userId": "104571081462489304112"
     },
     "user_tz": -480
    },
    "id": "aVaSe1RpbLw5",
    "outputId": "1b7771a2-c8c6-4147-b389-145e6ee421be"
   },
   "outputs": [
    {
     "name": "stdout",
     "output_type": "stream",
     "text": [
      "total 181860\r\n",
      "drwxr-xr-x 2 root root     4096 Feb 13 13:32 .\r\n",
      "drwxr-xr-x 2 root root     4096 Feb 13 04:07 ..\r\n",
      "-rw-r--r-- 1 root root      158 Feb 13 13:35 batches.meta\r\n",
      "-rw-r--r-- 1 root root 31035704 Feb 13 05:33 data_batch_1\r\n",
      "-rw-r--r-- 1 root root 31035320 Feb 13 05:33 data_batch_2\r\n",
      "-rw-r--r-- 1 root root 31035999 Feb 13 05:33 data_batch_3\r\n",
      "-rw-r--r-- 1 root root 31035696 Feb 13 05:33 data_batch_4\r\n",
      "-rw-r--r-- 1 root root 31035623 Feb 13 05:33 data_batch_5\r\n",
      "-rw-r--r-- 1 root root       88 Feb 13 05:19 readme.html\r\n",
      "-rw-r--r-- 1 root root 31035526 Feb 13 15:48 test_batch\r\n"
     ]
    }
   ],
   "source": [
    "!ls -la cs231n/datasets/cifar-10-batches-py\n"
   ]
  },
  {
   "cell_type": "code",
   "execution_count": 2,
   "metadata": {
    "colab": {
     "autoexec": {
      "startup": false,
      "wait_interval": 0
     },
     "base_uri": "https://localhost:8080/",
     "height": 119,
     "output_extras": [
      {
       "item_id": 1
      }
     ]
    },
    "colab_type": "code",
    "executionInfo": {
     "elapsed": 17896,
     "status": "ok",
     "timestamp": 1518682469495,
     "user": {
      "displayName": "Henry Little",
      "photoUrl": "//lh5.googleusercontent.com/-Wl83hLUNubE/AAAAAAAAAAI/AAAAAAAAA3w/vhaG9oTCOsM/s50-c-k-no/photo.jpg",
      "userId": "104571081462489304112"
     },
     "user_tz": -480
    },
    "id": "eml9CuBY7yp_",
    "outputId": "85f09c67-d1ed-46dc-8b7f-1ef7609b4013"
   },
   "outputs": [
    {
     "name": "stdout",
     "output_type": "stream",
     "text": [
      "('X_train: ', (49000, 3, 32, 32))\n",
      "('y_train: ', (49000,))\n",
      "('X_val: ', (1000, 3, 32, 32))\n",
      "('y_val: ', (1000,))\n",
      "('X_test: ', (1000, 3, 32, 32))\n",
      "('y_test: ', (1000,))\n"
     ]
    }
   ],
   "source": [
    "# Load the (preprocessed) CIFAR10 data.\n",
    "\n",
    "data = get_CIFAR10_data()\n",
    "for k, v in list(data.items()):\n",
    "  print(('%s: ' % k, v.shape))"
   ]
  },
  {
   "cell_type": "markdown",
   "metadata": {
    "colab_type": "text",
    "id": "S0k2FddM7yqJ"
   },
   "source": [
    "# Affine layer: foward\n",
    "Open the file `cs231n/layers.py` and implement the `affine_forward` function.\n",
    "\n",
    "Once you are done you can test your implementaion by running the following:"
   ]
  },
  {
   "cell_type": "code",
   "execution_count": 49,
   "metadata": {
    "colab": {
     "autoexec": {
      "startup": false,
      "wait_interval": 0
     },
     "base_uri": "https://localhost:8080/",
     "height": 136,
     "output_extras": [
      {
       "item_id": 1
      }
     ]
    },
    "colab_type": "code",
    "executionInfo": {
     "elapsed": 2024,
     "status": "ok",
     "timestamp": 1518604867452,
     "user": {
      "displayName": "Henry Little",
      "photoUrl": "//lh5.googleusercontent.com/-Wl83hLUNubE/AAAAAAAAAAI/AAAAAAAAA3w/vhaG9oTCOsM/s50-c-k-no/photo.jpg",
      "userId": "104571081462489304112"
     },
     "user_tz": -480
    },
    "id": "BDVVsfXwD-vT",
    "outputId": "f0a67f85-e14b-4cc6-a5d3-2f2a51d9fdb6"
   },
   "outputs": [
    {
     "name": "stdout",
     "output_type": "stream",
     "text": [
      "total 31\r\n",
      "drwxr-xr-x 2 root root  4096 Feb 13 06:49 .\r\n",
      "drwxr-xr-x 2 root root  4096 Feb 13 06:48 ..\r\n",
      "-rw-r--r-- 1 root root  4915 Feb 13 06:49 cnn.py\r\n",
      "-rw-r--r-- 1 root root 14089 Feb 14 10:40 fc_net.py\r\n",
      "-rw-r--r-- 1 root root     0 Feb 13 06:49 __init__.py\r\n",
      "drwxr-xr-x 2 root root  4096 Feb 13 12:13 __pycache__\r\n"
     ]
    }
   ],
   "source": [
    "!ls -la cs231n/classifiers"
   ]
  },
  {
   "cell_type": "code",
   "execution_count": 47,
   "metadata": {
    "colab": {
     "autoexec": {
      "startup": false,
      "wait_interval": 0
     },
     "base_uri": "https://localhost:8080/",
     "height": 34,
     "output_extras": [
      {
       "item_id": 1
      }
     ]
    },
    "colab_type": "code",
    "executionInfo": {
     "elapsed": 2699,
     "status": "ok",
     "timestamp": 1518604856097,
     "user": {
      "displayName": "Henry Little",
      "photoUrl": "//lh5.googleusercontent.com/-Wl83hLUNubE/AAAAAAAAAAI/AAAAAAAAA3w/vhaG9oTCOsM/s50-c-k-no/photo.jpg",
      "userId": "104571081462489304112"
     },
     "user_tz": -480
    },
    "id": "srbdtowhwwA3",
    "outputId": "2f3b493e-278c-4fa7-af43-2bfede64e3c6"
   },
   "outputs": [
    {
     "data": {
      "text/plain": [
       "'cs231n/classifiers/fc_net.py'"
      ]
     },
     "execution_count": 47,
     "metadata": {
      "tags": []
     },
     "output_type": "execute_result"
    }
   ],
   "source": [
    "from shutil import copyfile\n",
    "copyfile('cs231n/classifiers/fc_nets.py', 'cs231n/classifiers/fc_net.py')"
   ]
  },
  {
   "cell_type": "code",
   "execution_count": 0,
   "metadata": {
    "colab": {
     "autoexec": {
      "startup": false,
      "wait_interval": 0
     }
    },
    "colab_type": "code",
    "id": "-lKPUwJ_xYu4"
   },
   "outputs": [],
   "source": [
    "os.remove('cs231n/classifiers/fc_nets.py')"
   ]
  },
  {
   "cell_type": "code",
   "execution_count": 69,
   "metadata": {
    "colab": {
     "autoexec": {
      "startup": false,
      "wait_interval": 0
     },
     "base_uri": "https://localhost:8080/",
     "height": 51,
     "output_extras": [
      {
       "item_id": 1
      }
     ]
    },
    "colab_type": "code",
    "executionInfo": {
     "elapsed": 847,
     "status": "ok",
     "timestamp": 1518600623153,
     "user": {
      "displayName": "Henry Little",
      "photoUrl": "//lh5.googleusercontent.com/-Wl83hLUNubE/AAAAAAAAAAI/AAAAAAAAA3w/vhaG9oTCOsM/s50-c-k-no/photo.jpg",
      "userId": "104571081462489304112"
     },
     "user_tz": -480
    },
    "id": "ZgDOOmPS7yqL",
    "outputId": "052e426e-ef0f-4525-e6be-a1a6b6bc8d62"
   },
   "outputs": [
    {
     "name": "stdout",
     "output_type": "stream",
     "text": [
      "Testing affine_forward function:\n",
      "difference:  9.769849468192957e-10\n"
     ]
    }
   ],
   "source": [
    "# Test the affine_forward function\n",
    "\n",
    "num_inputs = 2\n",
    "input_shape = (4, 5, 6)\n",
    "output_dim = 3\n",
    "\n",
    "input_size = num_inputs * np.prod(input_shape)\n",
    "weight_size = output_dim * np.prod(input_shape)\n",
    "\n",
    "x = np.linspace(-0.1, 0.5, num=input_size).reshape(num_inputs, *input_shape)\n",
    "w = np.linspace(-0.2, 0.3, num=weight_size).reshape(np.prod(input_shape), output_dim)\n",
    "b = np.linspace(-0.3, 0.1, num=output_dim)\n",
    "\n",
    "out, _ = affine_forward(x, w, b)\n",
    "correct_out = np.array([[ 1.49834967,  1.70660132,  1.91485297],\n",
    "                        [ 3.25553199,  3.5141327,   3.77273342]])\n",
    "\n",
    "# Compare your output with ours. The error should be around 1e-9.\n",
    "print('Testing affine_forward function:')\n",
    "print('difference: ', rel_error(out, correct_out))"
   ]
  },
  {
   "cell_type": "markdown",
   "metadata": {
    "colab_type": "text",
    "id": "an6zItoA7yqT"
   },
   "source": [
    "# Affine layer: backward\n",
    "Now implement the `affine_backward` function and test your implementation using numeric gradient checking."
   ]
  },
  {
   "cell_type": "code",
   "execution_count": 9,
   "metadata": {
    "colab": {
     "autoexec": {
      "startup": false,
      "wait_interval": 0
     },
     "base_uri": "https://localhost:8080/",
     "height": 85,
     "output_extras": [
      {
       "item_id": 1
      }
     ]
    },
    "colab_type": "code",
    "executionInfo": {
     "elapsed": 736,
     "status": "ok",
     "timestamp": 1518598641543,
     "user": {
      "displayName": "Henry Little",
      "photoUrl": "//lh5.googleusercontent.com/-Wl83hLUNubE/AAAAAAAAAAI/AAAAAAAAA3w/vhaG9oTCOsM/s50-c-k-no/photo.jpg",
      "userId": "104571081462489304112"
     },
     "user_tz": -480
    },
    "id": "xn8qaJet7yqV",
    "outputId": "2fcbee91-7f31-4392-8e21-c0c5190a1125"
   },
   "outputs": [
    {
     "name": "stdout",
     "output_type": "stream",
     "text": [
      "Testing affine_backward function:\n",
      "dx error:  5.399100368651805e-11\n",
      "dw error:  9.904211865398145e-11\n",
      "db error:  2.4122867568119087e-11\n"
     ]
    }
   ],
   "source": [
    "# Test the affine_backward function\n",
    "np.random.seed(231)\n",
    "x = np.random.randn(10, 2, 3)\n",
    "w = np.random.randn(6, 5)\n",
    "b = np.random.randn(5)\n",
    "dout = np.random.randn(10, 5)\n",
    "\n",
    "dx_num = eval_numerical_gradient_array(lambda x: affine_forward(x, w, b)[0], x, dout)\n",
    "dw_num = eval_numerical_gradient_array(lambda w: affine_forward(x, w, b)[0], w, dout)\n",
    "db_num = eval_numerical_gradient_array(lambda b: affine_forward(x, w, b)[0], b, dout)\n",
    "\n",
    "_, cache = affine_forward(x, w, b)\n",
    "dx, dw, db = affine_backward(dout, cache)\n",
    "\n",
    "# The error should be around 1e-10\n",
    "print('Testing affine_backward function:')\n",
    "print('dx error: ', rel_error(dx_num, dx))\n",
    "print('dw error: ', rel_error(dw_num, dw))\n",
    "print('db error: ', rel_error(db_num, db))"
   ]
  },
  {
   "cell_type": "markdown",
   "metadata": {
    "colab_type": "text",
    "id": "5goFDgMW7yqg"
   },
   "source": [
    "# ReLU layer: forward\n",
    "Implement the forward pass for the ReLU activation function in the `relu_forward` function and test your implementation using the following:"
   ]
  },
  {
   "cell_type": "code",
   "execution_count": 10,
   "metadata": {
    "colab": {
     "autoexec": {
      "startup": false,
      "wait_interval": 0
     },
     "base_uri": "https://localhost:8080/",
     "height": 51,
     "output_extras": [
      {
       "item_id": 1
      }
     ]
    },
    "colab_type": "code",
    "executionInfo": {
     "elapsed": 693,
     "status": "ok",
     "timestamp": 1518598643774,
     "user": {
      "displayName": "Henry Little",
      "photoUrl": "//lh5.googleusercontent.com/-Wl83hLUNubE/AAAAAAAAAAI/AAAAAAAAA3w/vhaG9oTCOsM/s50-c-k-no/photo.jpg",
      "userId": "104571081462489304112"
     },
     "user_tz": -480
    },
    "id": "RFzm2J-P7yqm",
    "outputId": "9ca43a6d-ad82-48a7-ab1d-ffe0f314fdab"
   },
   "outputs": [
    {
     "name": "stdout",
     "output_type": "stream",
     "text": [
      "Testing relu_forward function:\n",
      "difference:  4.999999798022158e-08\n"
     ]
    }
   ],
   "source": [
    "# Test the relu_forward function\n",
    "\n",
    "x = np.linspace(-0.5, 0.5, num=12).reshape(3, 4)\n",
    "\n",
    "out, _ = relu_forward(x)\n",
    "correct_out = np.array([[ 0.,          0.,          0.,          0.,        ],\n",
    "                        [ 0.,          0.,          0.04545455,  0.13636364,],\n",
    "                        [ 0.22727273,  0.31818182,  0.40909091,  0.5,       ]])\n",
    "\n",
    "# Compare your output with ours. The error should be around 5e-8\n",
    "print('Testing relu_forward function:')\n",
    "print('difference: ', rel_error(out, correct_out))"
   ]
  },
  {
   "cell_type": "markdown",
   "metadata": {
    "colab_type": "text",
    "id": "MpAkVyGU7yq2"
   },
   "source": [
    "# ReLU layer: backward\n",
    "Now implement the backward pass for the ReLU activation function in the `relu_backward` function and test your implementation using numeric gradient checking:"
   ]
  },
  {
   "cell_type": "code",
   "execution_count": 11,
   "metadata": {
    "colab": {
     "autoexec": {
      "startup": false,
      "wait_interval": 0
     },
     "base_uri": "https://localhost:8080/",
     "height": 51,
     "output_extras": [
      {
       "item_id": 1
      }
     ]
    },
    "colab_type": "code",
    "executionInfo": {
     "elapsed": 741,
     "status": "ok",
     "timestamp": 1518598647079,
     "user": {
      "displayName": "Henry Little",
      "photoUrl": "//lh5.googleusercontent.com/-Wl83hLUNubE/AAAAAAAAAAI/AAAAAAAAA3w/vhaG9oTCOsM/s50-c-k-no/photo.jpg",
      "userId": "104571081462489304112"
     },
     "user_tz": -480
    },
    "id": "lgKhPGN_7yq4",
    "outputId": "b7a030a3-1f7e-4e98-ed98-7143daf20c29"
   },
   "outputs": [
    {
     "name": "stdout",
     "output_type": "stream",
     "text": [
      "Testing relu_backward function:\n",
      "dx error:  3.2756349136310288e-12\n"
     ]
    }
   ],
   "source": [
    "np.random.seed(231)\n",
    "x = np.random.randn(10, 10)\n",
    "dout = np.random.randn(*x.shape)\n",
    "\n",
    "dx_num = eval_numerical_gradient_array(lambda x: relu_forward(x)[0], x, dout)\n",
    "\n",
    "_, cache = relu_forward(x)\n",
    "dx = relu_backward(dout, cache)\n",
    "\n",
    "# The error should be around 3e-12\n",
    "print('Testing relu_backward function:')\n",
    "print('dx error: ', rel_error(dx_num, dx))"
   ]
  },
  {
   "cell_type": "markdown",
   "metadata": {
    "colab_type": "text",
    "id": "4nJ6e1j57yq9"
   },
   "source": [
    "# \"Sandwich\" layers\n",
    "There are some common patterns of layers that are frequently used in neural nets. For example, affine layers are frequently followed by a ReLU nonlinearity. To make these common patterns easy, we define several convenience layers in the file `cs231n/layer_utils.py`.\n",
    "\n",
    "For now take a look at the `affine_relu_forward` and `affine_relu_backward` functions, and run the following to numerically gradient check the backward pass:"
   ]
  },
  {
   "cell_type": "code",
   "execution_count": 12,
   "metadata": {
    "colab": {
     "autoexec": {
      "startup": false,
      "wait_interval": 0
     },
     "base_uri": "https://localhost:8080/",
     "height": 85,
     "output_extras": [
      {
       "item_id": 1
      }
     ]
    },
    "colab_type": "code",
    "executionInfo": {
     "elapsed": 778,
     "status": "ok",
     "timestamp": 1518598650449,
     "user": {
      "displayName": "Henry Little",
      "photoUrl": "//lh5.googleusercontent.com/-Wl83hLUNubE/AAAAAAAAAAI/AAAAAAAAA3w/vhaG9oTCOsM/s50-c-k-no/photo.jpg",
      "userId": "104571081462489304112"
     },
     "user_tz": -480
    },
    "id": "lg2vuoHh7yrA",
    "outputId": "5f6ddceb-1a33-40c4-bfdc-db2f73abf930"
   },
   "outputs": [
    {
     "name": "stdout",
     "output_type": "stream",
     "text": [
      "Testing affine_relu_forward:\n",
      "dx error:  2.299579177309368e-11\n",
      "dw error:  8.162011105764925e-11\n",
      "db error:  7.826724021458994e-12\n"
     ]
    }
   ],
   "source": [
    "from cs231n.layer_utils import affine_relu_forward, affine_relu_backward\n",
    "np.random.seed(231)\n",
    "x = np.random.randn(2, 3, 4)\n",
    "w = np.random.randn(12, 10)\n",
    "b = np.random.randn(10)\n",
    "dout = np.random.randn(2, 10)\n",
    "\n",
    "out, cache = affine_relu_forward(x, w, b)\n",
    "dx, dw, db = affine_relu_backward(dout, cache)\n",
    "\n",
    "dx_num = eval_numerical_gradient_array(lambda x: affine_relu_forward(x, w, b)[0], x, dout)\n",
    "dw_num = eval_numerical_gradient_array(lambda w: affine_relu_forward(x, w, b)[0], w, dout)\n",
    "db_num = eval_numerical_gradient_array(lambda b: affine_relu_forward(x, w, b)[0], b, dout)\n",
    "\n",
    "print('Testing affine_relu_forward:')\n",
    "print('dx error: ', rel_error(dx_num, dx))\n",
    "print('dw error: ', rel_error(dw_num, dw))\n",
    "print('db error: ', rel_error(db_num, db))"
   ]
  },
  {
   "cell_type": "markdown",
   "metadata": {
    "colab_type": "text",
    "id": "L5bvAjlK7yrE"
   },
   "source": [
    "# Loss layers: Softmax and SVM\n",
    "You implemented these loss functions in the last assignment, so we'll give them to you for free here. You should still make sure you understand how they work by looking at the implementations in `cs231n/layers.py`.\n",
    "\n",
    "You can make sure that the implementations are correct by running the following:"
   ]
  },
  {
   "cell_type": "code",
   "execution_count": 71,
   "metadata": {
    "colab": {
     "autoexec": {
      "startup": false,
      "wait_interval": 0
     },
     "base_uri": "https://localhost:8080/",
     "height": 136,
     "output_extras": [
      {
       "item_id": 1
      }
     ]
    },
    "colab_type": "code",
    "executionInfo": {
     "elapsed": 3359,
     "status": "ok",
     "timestamp": 1518600673500,
     "user": {
      "displayName": "Henry Little",
      "photoUrl": "//lh5.googleusercontent.com/-Wl83hLUNubE/AAAAAAAAAAI/AAAAAAAAA3w/vhaG9oTCOsM/s50-c-k-no/photo.jpg",
      "userId": "104571081462489304112"
     },
     "user_tz": -480
    },
    "id": "olnbaDxb7yrG",
    "outputId": "3809b203-c9c8-4602-b3a2-339859e315ba"
   },
   "outputs": [
    {
     "name": "stdout",
     "output_type": "stream",
     "text": [
      "Testing svm_loss:\n",
      "loss:  8.999602749096233\n",
      "dx error:  1.4021566006651672e-09\n",
      "\n",
      "Testing softmax_loss:\n",
      "loss:  2.302545844500738\n",
      "dx error:  9.384673161989355e-09\n"
     ]
    }
   ],
   "source": [
    "np.random.seed(231)\n",
    "num_classes, num_inputs = 10, 50\n",
    "x = 0.001 * np.random.randn(num_inputs, num_classes)\n",
    "y = np.random.randint(num_classes, size=num_inputs)\n",
    "\n",
    "dx_num = eval_numerical_gradient(lambda x: svm_loss(x, y)[0], x, verbose=False)\n",
    "loss, dx = svm_loss(x, y)\n",
    "\n",
    "# Test svm_loss function. Loss should be around 9 and dx error should be 1e-9\n",
    "print('Testing svm_loss:')\n",
    "print('loss: ', loss)\n",
    "print('dx error: ', rel_error(dx_num, dx))\n",
    "\n",
    "dx_num = eval_numerical_gradient(lambda x: softmax_loss(x, y)[0], x, verbose=False)\n",
    "loss, dx = softmax_loss(x, y)\n",
    "\n",
    "# Test softmax_loss function. Loss should be 2.3 and dx error should be 1e-8\n",
    "print('\\nTesting softmax_loss:')\n",
    "print('loss: ', loss)\n",
    "print('dx error: ', rel_error(dx_num, dx))"
   ]
  },
  {
   "cell_type": "markdown",
   "metadata": {
    "colab_type": "text",
    "id": "hMntSaS27yrJ"
   },
   "source": [
    "# Two-layer network\n",
    "In the previous assignment you implemented a two-layer neural network in a single monolithic class. Now that you have implemented modular versions of the necessary layers, you will reimplement the two layer network using these modular implementations.\n",
    "\n",
    "Open the file `cs231n/classifiers/fc_net.py` and complete the implementation of the `TwoLayerNet` class. This class will serve as a model for the other networks you will implement in this assignment, so read through it to make sure you understand the API. You can run the cell below to test your implementation."
   ]
  },
  {
   "cell_type": "code",
   "execution_count": 8,
   "metadata": {
    "colab": {
     "autoexec": {
      "startup": false,
      "wait_interval": 0
     },
     "base_uri": "https://localhost:8080/",
     "height": 272,
     "output_extras": [
      {
       "item_id": 2
      }
     ]
    },
    "colab_type": "code",
    "executionInfo": {
     "elapsed": 1365,
     "status": "ok",
     "timestamp": 1518682735257,
     "user": {
      "displayName": "Henry Little",
      "photoUrl": "//lh5.googleusercontent.com/-Wl83hLUNubE/AAAAAAAAAAI/AAAAAAAAA3w/vhaG9oTCOsM/s50-c-k-no/photo.jpg",
      "userId": "104571081462489304112"
     },
     "user_tz": -480
    },
    "id": "XkcPAELY7yrK",
    "outputId": "1711d540-6c8d-4378-97cb-24a4302bbdc9"
   },
   "outputs": [
    {
     "name": "stdout",
     "output_type": "stream",
     "text": [
      "Testing initialization ... \n",
      "Testing test-time forward pass ... \n",
      "Testing training loss (no regularization)\n",
      "3.47022435559539\n",
      "26.594842695238583\n",
      "Running numeric gradient check with reg =  0.0\n",
      "W1 relative error: 1.83e-08\n",
      "W2 relative error: 3.12e-10\n",
      "b1 relative error: 9.83e-09\n",
      "b2 relative error: 4.33e-10\n",
      "Running numeric gradient check with reg =  0.7\n",
      "W1 relative error: 2.53e-07\n",
      "W2 relative error: 2.85e-08\n",
      "b1 relative error: 1.56e-08\n",
      "b2 relative error: 7.76e-10\n"
     ]
    }
   ],
   "source": [
    "np.random.seed(231)\n",
    "N, D, H, C = 3, 5, 50, 7\n",
    "X = np.random.randn(N, D)\n",
    "y = np.random.randint(C, size=N)\n",
    "\n",
    "std = 1e-3\n",
    "model = TwoLayerNet(input_dim=D, hidden_dim=H, num_classes=C, weight_scale=std)\n",
    "\n",
    "print('Testing initialization ... ')\n",
    "W1_std = abs(model.params['W1'].std() - std)\n",
    "b1 = model.params['b1']\n",
    "W2_std = abs(model.params['W2'].std() - std)\n",
    "b2 = model.params['b2']\n",
    "assert W1_std < std / 10, 'First layer weights do not seem right'\n",
    "assert np.all(b1 == 0), 'First layer biases do not seem right'\n",
    "assert W2_std < std / 10, 'Second layer weights do not seem right'\n",
    "assert np.all(b2 == 0), 'Second layer biases do not seem right'\n",
    "\n",
    "print('Testing test-time forward pass ... ')\n",
    "model.params['W1'] = np.linspace(-0.7, 0.3, num=D*H).reshape(D, H)\n",
    "model.params['b1'] = np.linspace(-0.1, 0.9, num=H)\n",
    "model.params['W2'] = np.linspace(-0.3, 0.4, num=H*C).reshape(H, C)\n",
    "model.params['b2'] = np.linspace(-0.9, 0.1, num=C)\n",
    "X = np.linspace(-5.5, 4.5, num=N*D).reshape(D, N).T\n",
    "scores = model.loss(X)\n",
    "correct_scores = np.asarray(\n",
    "  [[11.53165108,  12.2917344,   13.05181771,  13.81190102,  14.57198434, 15.33206765,  16.09215096],\n",
    "   [12.05769098,  12.74614105,  13.43459113,  14.1230412,   14.81149128, 15.49994135,  16.18839143],\n",
    "   [12.58373087,  13.20054771,  13.81736455,  14.43418138,  15.05099822, 15.66781506,  16.2846319 ]])\n",
    "scores_diff = np.abs(scores - correct_scores).sum()\n",
    "assert scores_diff < 1e-6, 'Problem with test-time forward pass'\n",
    "\n",
    "print('Testing training loss (no regularization)')\n",
    "y = np.asarray([0, 5, 1])\n",
    "loss, grads = model.loss(X, y)\n",
    "correct_loss = 3.4702243556\n",
    "print(loss)\n",
    "assert abs(loss - correct_loss) < 1e-10, 'Problem with training-time loss'\n",
    "\n",
    "model.reg = 1.0\n",
    "loss, grads = model.loss(X, y)\n",
    "correct_loss = 26.5948426952\n",
    "print(loss)\n",
    "assert abs(loss - correct_loss) < 1e-10, 'Problem with regularization loss'\n",
    "\n",
    "for reg in [0.0, 0.7]:\n",
    "  print('Running numeric gradient check with reg = ', reg)\n",
    "  model.reg = reg\n",
    "  loss, grads = model.loss(X, y)\n",
    "\n",
    "  for name in sorted(grads):\n",
    "    f = lambda _: model.loss(X, y)[0]\n",
    "    grad_num = eval_numerical_gradient(f, model.params[name], verbose=False)\n",
    "    print('%s relative error: %.2e' % (name, rel_error(grad_num, grads[name])))"
   ]
  },
  {
   "cell_type": "markdown",
   "metadata": {
    "colab_type": "text",
    "id": "_QXwwYss7yrO"
   },
   "source": [
    "# Solver\n",
    "In the previous assignment, the logic for training models was coupled to the models themselves. Following a more modular design, for this assignment we have split the logic for training models into a separate class.\n",
    "\n",
    "Open the file `cs231n/solver.py` and read through it to familiarize yourself with the API. After doing so, use a `Solver` instance to train a `TwoLayerNet` that achieves at least `50%` accuracy on the validation set."
   ]
  },
  {
   "cell_type": "code",
   "execution_count": 46,
   "metadata": {
    "colab": {
     "autoexec": {
      "startup": false,
      "wait_interval": 0
     },
     "base_uri": "https://localhost:8080/",
     "height": 374,
     "output_extras": [
      {
       "item_id": 2
      }
     ]
    },
    "colab_type": "code",
    "executionInfo": {
     "elapsed": 2748,
     "status": "ok",
     "timestamp": 1518684357271,
     "user": {
      "displayName": "Henry Little",
      "photoUrl": "//lh5.googleusercontent.com/-Wl83hLUNubE/AAAAAAAAAAI/AAAAAAAAA3w/vhaG9oTCOsM/s50-c-k-no/photo.jpg",
      "userId": "104571081462489304112"
     },
     "user_tz": -480
    },
    "id": "1czHSd2Vk3qG",
    "outputId": "f8c5b236-1c9d-47ad-87c2-1fbd827b1620"
   },
   "outputs": [
    {
     "name": "stdout",
     "output_type": "stream",
     "text": [
      "build\t\t\t\t\t       im2col_cython.pyx\r\n",
      "classifiers\t\t\t\t       im2col.py\r\n",
      "datasets\t\t\t\t       __init__.py\r\n",
      "data_utils.py\t\t\t\t       layer.py\r\n",
      "data_utils.py.odt\t\t\t       layer_utils.py\r\n",
      "drive\t\t\t\t\t       optim.py\r\n",
      "fast_layers.py\t\t\t\t       __pycache__\r\n",
      "gradient_check.py\t\t\t       setup.py\r\n",
      "im2col_cython.c\t\t\t\t       solver.py\r\n",
      "im2col_cython.cpython-36m-x86_64-linux-gnu.so  vis_utils.py\n",
      "build\t\t\t\t\t       im2col.py\n",
      "classifiers\t\t\t\t       __init__.py\n",
      "datasets\t\t\t\t       layer.py\n",
      "data_utils.py\t\t\t\t       layers.py\n",
      "data_utils.py.odt\t\t\t       layer_utils.py\n",
      "drive\t\t\t\t\t       optim.py\n",
      "fast_layers.py\t\t\t\t       __pycache__\n",
      "gradient_check.py\t\t\t       setup.py\n",
      "im2col_cython.c\t\t\t\t       solver.py\n",
      "im2col_cython.cpython-36m-x86_64-linux-gnu.so  vis_utils.py\n",
      "im2col_cython.pyx\n"
     ]
    }
   ],
   "source": [
    "!ls cs231n/\n",
    "from shutil import copyfile\n",
    "copyfile('cs231n/layer.py', 'cs231n/layers.py')\n",
    "!ls cs231n\n"
   ]
  },
  {
   "cell_type": "code",
   "execution_count": 47,
   "metadata": {
    "colab": {
     "autoexec": {
      "startup": false,
      "wait_interval": 0
     },
     "base_uri": "https://localhost:8080/",
     "height": 187,
     "output_extras": [
      {
       "item_id": 1
      }
     ]
    },
    "colab_type": "code",
    "executionInfo": {
     "elapsed": 6283,
     "status": "ok",
     "timestamp": 1518684364472,
     "user": {
      "displayName": "Henry Little",
      "photoUrl": "//lh5.googleusercontent.com/-Wl83hLUNubE/AAAAAAAAAAI/AAAAAAAAA3w/vhaG9oTCOsM/s50-c-k-no/photo.jpg",
      "userId": "104571081462489304112"
     },
     "user_tz": -480
    },
    "id": "ZCNROka2nbf9",
    "outputId": "ad4126a4-a6ee-4494-c6c1-e7a6c303f530"
   },
   "outputs": [
    {
     "name": "stdout",
     "output_type": "stream",
     "text": [
      "build\t\t\t\t\t       im2col_cython.pyx\r\n",
      "classifiers\t\t\t\t       im2col.py\r\n",
      "datasets\t\t\t\t       __init__.py\r\n",
      "data_utils.py\t\t\t\t       layers.py\r\n",
      "data_utils.py.odt\t\t\t       layer_utils.py\r\n",
      "drive\t\t\t\t\t       optim.py\r\n",
      "fast_layers.py\t\t\t\t       __pycache__\r\n",
      "gradient_check.py\t\t\t       setup.py\r\n",
      "im2col_cython.c\t\t\t\t       solver.py\r\n",
      "im2col_cython.cpython-36m-x86_64-linux-gnu.so  vis_utils.py\r\n"
     ]
    }
   ],
   "source": [
    "os.remove('cs231n/layer.py')\n",
    "!ls cs231n"
   ]
  },
  {
   "cell_type": "code",
   "execution_count": 51,
   "metadata": {
    "colab": {
     "autoexec": {
      "startup": false,
      "wait_interval": 0
     },
     "base_uri": "https://localhost:8080/",
     "height": 1224,
     "output_extras": [
      {
       "item_id": 63
      },
      {
       "item_id": 65
      }
     ]
    },
    "colab_type": "code",
    "executionInfo": {
     "elapsed": 135334,
     "status": "ok",
     "timestamp": 1518685078424,
     "user": {
      "displayName": "Henry Little",
      "photoUrl": "//lh5.googleusercontent.com/-Wl83hLUNubE/AAAAAAAAAAI/AAAAAAAAA3w/vhaG9oTCOsM/s50-c-k-no/photo.jpg",
      "userId": "104571081462489304112"
     },
     "user_tz": -480
    },
    "id": "I2Y6gJbi7yrP",
    "outputId": "d2d8ff3a-bbb8-469e-de18-c355c2f930e9"
   },
   "outputs": [
    {
     "name": "stdout",
     "output_type": "stream",
     "text": [
      "(Iteration 1 / 4900) loss: 2.304836\n",
      "(Epoch 0 / 20) train acc: 0.118000; val_acc: 0.126000\n",
      "(Iteration 101 / 4900) loss: 1.972269\n",
      "(Iteration 201 / 4900) loss: 1.819838\n",
      "(Epoch 1 / 20) train acc: 0.413000; val_acc: 0.392000\n",
      "(Iteration 301 / 4900) loss: 1.569406\n",
      "(Iteration 401 / 4900) loss: 1.622009\n",
      "(Epoch 2 / 20) train acc: 0.448000; val_acc: 0.484000\n",
      "(Iteration 501 / 4900) loss: 1.565770\n",
      "(Iteration 601 / 4900) loss: 1.452651\n",
      "(Iteration 701 / 4900) loss: 1.542837\n",
      "(Epoch 3 / 20) train acc: 0.474000; val_acc: 0.484000\n",
      "(Iteration 801 / 4900) loss: 1.467897\n",
      "(Iteration 901 / 4900) loss: 1.356938\n",
      "(Epoch 4 / 20) train acc: 0.529000; val_acc: 0.500000\n",
      "(Iteration 1001 / 4900) loss: 1.447413\n",
      "(Iteration 1101 / 4900) loss: 1.506907\n",
      "(Iteration 1201 / 4900) loss: 1.458997\n",
      "(Epoch 5 / 20) train acc: 0.535000; val_acc: 0.495000\n",
      "(Iteration 1301 / 4900) loss: 1.308371\n",
      "(Iteration 1401 / 4900) loss: 1.430720\n",
      "(Epoch 6 / 20) train acc: 0.545000; val_acc: 0.517000\n",
      "(Iteration 1501 / 4900) loss: 1.213904\n",
      "(Iteration 1601 / 4900) loss: 1.285312\n",
      "(Iteration 1701 / 4900) loss: 1.199972\n",
      "(Epoch 7 / 20) train acc: 0.562000; val_acc: 0.513000\n",
      "(Iteration 1801 / 4900) loss: 1.306323\n",
      "(Iteration 1901 / 4900) loss: 1.232057\n",
      "(Epoch 8 / 20) train acc: 0.595000; val_acc: 0.514000\n",
      "(Iteration 2001 / 4900) loss: 1.288045\n",
      "(Iteration 2101 / 4900) loss: 1.252929\n",
      "(Iteration 2201 / 4900) loss: 1.205097\n",
      "(Epoch 9 / 20) train acc: 0.568000; val_acc: 0.508000\n",
      "(Iteration 2301 / 4900) loss: 1.404490\n",
      "(Iteration 2401 / 4900) loss: 1.229138\n",
      "(Epoch 10 / 20) train acc: 0.569000; val_acc: 0.534000\n",
      "(Iteration 2501 / 4900) loss: 1.190294\n",
      "(Iteration 2601 / 4900) loss: 1.127420\n",
      "(Epoch 11 / 20) train acc: 0.592000; val_acc: 0.509000\n",
      "(Iteration 2701 / 4900) loss: 1.155874\n",
      "(Iteration 2801 / 4900) loss: 1.137273\n",
      "(Iteration 2901 / 4900) loss: 1.190377\n",
      "(Epoch 12 / 20) train acc: 0.608000; val_acc: 0.522000\n",
      "(Iteration 3001 / 4900) loss: 1.168880\n",
      "(Iteration 3101 / 4900) loss: 1.276197\n",
      "(Epoch 13 / 20) train acc: 0.623000; val_acc: 0.539000\n",
      "(Iteration 3201 / 4900) loss: 1.032111\n",
      "(Iteration 3301 / 4900) loss: 1.004292\n",
      "(Iteration 3401 / 4900) loss: 0.984423\n",
      "(Epoch 14 / 20) train acc: 0.595000; val_acc: 0.536000\n",
      "(Iteration 3501 / 4900) loss: 1.113352\n",
      "(Iteration 3601 / 4900) loss: 1.095178\n",
      "(Epoch 15 / 20) train acc: 0.622000; val_acc: 0.542000\n",
      "(Iteration 3701 / 4900) loss: 1.244728\n",
      "(Iteration 3801 / 4900) loss: 1.082093\n",
      "(Iteration 3901 / 4900) loss: 1.067412\n",
      "(Epoch 16 / 20) train acc: 0.642000; val_acc: 0.537000\n",
      "(Iteration 4001 / 4900) loss: 1.088165\n",
      "(Iteration 4101 / 4900) loss: 1.033964\n",
      "(Epoch 17 / 20) train acc: 0.647000; val_acc: 0.534000\n",
      "(Iteration 4201 / 4900) loss: 1.102963\n",
      "(Iteration 4301 / 4900) loss: 1.040349\n",
      "(Iteration 4401 / 4900) loss: 1.123656\n",
      "(Epoch 18 / 20) train acc: 0.657000; val_acc: 0.529000\n",
      "(Iteration 4501 / 4900) loss: 1.065081\n",
      "(Iteration 4601 / 4900) loss: 0.984261\n",
      "(Epoch 19 / 20) train acc: 0.662000; val_acc: 0.539000\n",
      "(Iteration 4701 / 4900) loss: 0.999535\n",
      "(Iteration 4801 / 4900) loss: 1.039121\n",
      "(Epoch 20 / 20) train acc: 0.652000; val_acc: 0.530000\n",
      "Test accuracy: 0.547000\n"
     ]
    }
   ],
   "source": [
    "model = TwoLayerNet(hidden_dim = 150)\n",
    "solver = None\n",
    "\n",
    "##############################################################################\n",
    "# TODO: Use a Solver instance to train a TwoLayerNet that achieves at least  #\n",
    "# 50% accuracy on the validation set.                                        #\n",
    "##############################################################################\n",
    "\n",
    "# init the Solver model\n",
    "solver = Solver(model, data,\n",
    "               update_rule = 'sgd',\n",
    "               optim_config = {\n",
    "                   'learning_rate':7e-4,\n",
    "               },\n",
    "               lr_decay = 0.95,\n",
    "               num_epochs = 20, batch_size = 200,\n",
    "               print_every = 100)\n",
    "solver.train()\n",
    "\n",
    "# run the model the test set\n",
    "scores = model.loss(data['X_test'])\n",
    "y_pred = np.argmax(scores, axis = 1)\n",
    "test_acc = np.mean(y_pred == data['y_test'])\n",
    "print('Test accuracy: %f' % test_acc)\n",
    "\n",
    "##############################################################################\n",
    "#                             END OF YOUR CODE                               #\n",
    "##############################################################################"
   ]
  },
  {
   "cell_type": "code",
   "execution_count": 52,
   "metadata": {
    "colab": {
     "autoexec": {
      "startup": false,
      "wait_interval": 0
     },
     "base_uri": "https://localhost:8080/",
     "height": 729,
     "output_extras": [
      {
       "item_id": 1
      }
     ]
    },
    "colab_type": "code",
    "executionInfo": {
     "elapsed": 6748,
     "status": "ok",
     "timestamp": 1518685095320,
     "user": {
      "displayName": "Henry Little",
      "photoUrl": "//lh5.googleusercontent.com/-Wl83hLUNubE/AAAAAAAAAAI/AAAAAAAAA3w/vhaG9oTCOsM/s50-c-k-no/photo.jpg",
      "userId": "104571081462489304112"
     },
     "user_tz": -480
    },
    "id": "KpQobYX-7yrU",
    "outputId": "f7acec81-501b-49fc-cef1-fb18f6d09c14"
   },
   "outputs": [
    {
     "data": {
      "image/png": "[encoded data removed]",
      "text/plain": [
       "<matplotlib.figure.Figure at 0x7f04adadd278>"
      ]
     },
     "metadata": {
      "tags": []
     },
     "output_type": "display_data"
    }
   ],
   "source": [
    "# Run this cell to visualize training loss and train / val accuracy\n",
    "\n",
    "plt.subplot(2, 1, 1)\n",
    "plt.title('Training loss')\n",
    "plt.plot(solver.loss_history, 'o')\n",
    "plt.xlabel('Iteration')\n",
    "\n",
    "plt.subplot(2, 1, 2)\n",
    "plt.title('Accuracy')\n",
    "plt.plot(solver.train_acc_history, '-o', label='train')\n",
    "plt.plot(solver.val_acc_history, '-o', label='val')\n",
    "plt.plot([0.5] * len(solver.val_acc_history), 'k--')\n",
    "plt.xlabel('Epoch')\n",
    "plt.legend(loc='lower right')\n",
    "plt.gcf().set_size_inches(15, 12)\n",
    "plt.show()"
   ]
  },
  {
   "cell_type": "markdown",
   "metadata": {
    "colab_type": "text",
    "id": "wYbBByMI7yrX"
   },
   "source": [
    "# Multilayer network\n",
    "Next you will implement a fully-connected network with an arbitrary number of hidden layers.\n",
    "\n",
    "Read through the `FullyConnectedNet` class in the file `cs231n/classifiers/fc_net.py`.\n",
    "\n",
    "Implement the initialization, the forward pass, and the backward pass. For the moment don't worry about implementing dropout or batch normalization; we will add those features soon."
   ]
  },
  {
   "cell_type": "markdown",
   "metadata": {
    "colab_type": "text",
    "id": "YKskq6ki7yrZ"
   },
   "source": [
    "## Initial loss and gradient check"
   ]
  },
  {
   "cell_type": "markdown",
   "metadata": {
    "colab_type": "text",
    "id": "P9t3axEq7yrb"
   },
   "source": [
    "As a sanity check, run the following to check the initial loss and to gradient check the network both with and without regularization. Do the initial losses seem reasonable?\n",
    "\n",
    "For gradient checking, you should expect to see errors around 1e-6 or less."
   ]
  },
  {
   "cell_type": "code",
   "execution_count": 99,
   "metadata": {
    "colab": {
     "autoexec": {
      "startup": false,
      "wait_interval": 0
     },
     "base_uri": "https://localhost:8080/",
     "height": 34,
     "output_extras": [
      {
       "item_id": 1
      }
     ]
    },
    "colab_type": "code",
    "executionInfo": {
     "elapsed": 1247,
     "status": "ok",
     "timestamp": 1518690789004,
     "user": {
      "displayName": "Henry Little",
      "photoUrl": "//lh5.googleusercontent.com/-Wl83hLUNubE/AAAAAAAAAAI/AAAAAAAAA3w/vhaG9oTCOsM/s50-c-k-no/photo.jpg",
      "userId": "104571081462489304112"
     },
     "user_tz": -480
    },
    "id": "XfFrIm5k80Be",
    "outputId": "62ec4d02-0532-4c9e-e6f3-ab6586abbc70"
   },
   "outputs": [
    {
     "name": "stdout",
     "output_type": "stream",
     "text": [
      "cnn.py\tfc_nets.py  __init__.py  __pycache__\r\n"
     ]
    }
   ],
   "source": [
    "!ls cs231n/classifiers/"
   ]
  },
  {
   "cell_type": "code",
   "execution_count": 100,
   "metadata": {
    "colab": {
     "autoexec": {
      "startup": false,
      "wait_interval": 0
     },
     "base_uri": "https://localhost:8080/",
     "height": 34,
     "output_extras": [
      {
       "item_id": 1
      }
     ]
    },
    "colab_type": "code",
    "executionInfo": {
     "elapsed": 2491,
     "status": "ok",
     "timestamp": 1518690792179,
     "user": {
      "displayName": "Henry Little",
      "photoUrl": "//lh5.googleusercontent.com/-Wl83hLUNubE/AAAAAAAAAAI/AAAAAAAAA3w/vhaG9oTCOsM/s50-c-k-no/photo.jpg",
      "userId": "104571081462489304112"
     },
     "user_tz": -480
    },
    "id": "WXKQMRdJ9TwZ",
    "outputId": "bca7ce09-980e-491c-c9f0-b70e4b90f8ef"
   },
   "outputs": [
    {
     "data": {
      "text/plain": [
       "'cs231n/classifiers/fc_net.py'"
      ]
     },
     "execution_count": 100,
     "metadata": {
      "tags": []
     },
     "output_type": "execute_result"
    }
   ],
   "source": [
    "from shutil import copyfile\n",
    "copyfile('cs231n/classifiers/fc_nets.py', 'cs231n/classifiers/fc_net.py')"
   ]
  },
  {
   "cell_type": "code",
   "execution_count": 101,
   "metadata": {
    "colab": {
     "autoexec": {
      "startup": false,
      "wait_interval": 0
     },
     "base_uri": "https://localhost:8080/",
     "height": 34,
     "output_extras": [
      {
       "item_id": 1
      }
     ]
    },
    "colab_type": "code",
    "executionInfo": {
     "elapsed": 5986,
     "status": "ok",
     "timestamp": 1518690798658,
     "user": {
      "displayName": "Henry Little",
      "photoUrl": "//lh5.googleusercontent.com/-Wl83hLUNubE/AAAAAAAAAAI/AAAAAAAAA3w/vhaG9oTCOsM/s50-c-k-no/photo.jpg",
      "userId": "104571081462489304112"
     },
     "user_tz": -480
    },
    "id": "2BmNHpnS9nyA",
    "outputId": "8ee07147-9771-4069-85db-c36f3d86259c"
   },
   "outputs": [
    {
     "name": "stdout",
     "output_type": "stream",
     "text": [
      "cnn.py\tfc_net.py  __init__.py\t__pycache__\r\n"
     ]
    }
   ],
   "source": [
    "os.remove('cs231n/classifiers/fc_nets.py')\n",
    "!ls cs231n/classifiers/"
   ]
  },
  {
   "cell_type": "code",
   "execution_count": 102,
   "metadata": {
    "colab": {
     "autoexec": {
      "startup": false,
      "wait_interval": 0
     },
     "base_uri": "https://localhost:8080/",
     "height": 289,
     "output_extras": [
      {
       "item_id": 4
      }
     ]
    },
    "colab_type": "code",
    "executionInfo": {
     "elapsed": 1649,
     "status": "ok",
     "timestamp": 1518690800328,
     "user": {
      "displayName": "Henry Little",
      "photoUrl": "//lh5.googleusercontent.com/-Wl83hLUNubE/AAAAAAAAAAI/AAAAAAAAA3w/vhaG9oTCOsM/s50-c-k-no/photo.jpg",
      "userId": "104571081462489304112"
     },
     "user_tz": -480
    },
    "id": "Rn6EEtay7yrb",
    "outputId": "ce30ac12-fb8e-4dbc-e590-f067bb037ec2"
   },
   "outputs": [
    {
     "name": "stdout",
     "output_type": "stream",
     "text": [
      "Running check with reg =  0\n",
      "Initial loss:  2.303059698318541\n",
      "W1 relative error: 3.04e-07\n",
      "W2 relative error: 9.48e-06\n",
      "W3 relative error: 1.14e-07\n",
      "b1 relative error: 1.19e-08\n",
      "b2 relative error: 1.90e-08\n",
      "b3 relative error: 1.45e-10\n",
      "Running check with reg =  3.14\n",
      "Initial loss:  7.052309055563792\n",
      "W1 relative error: 1.38e-08\n",
      "W2 relative error: 6.87e-08\n",
      "W3 relative error: 7.00e-09\n",
      "b1 relative error: 3.25e-08\n",
      "b2 relative error: 3.96e-09\n",
      "b3 relative error: 2.41e-10\n"
     ]
    }
   ],
   "source": [
    "np.random.seed(231)\n",
    "N, D, H1, H2, C = 2, 15, 20, 30, 10\n",
    "X = np.random.randn(N, D)\n",
    "y = np.random.randint(C, size=(N,))\n",
    "\n",
    "for reg in [0, 3.14]:\n",
    "  print('Running check with reg = ', reg)\n",
    "  model = FullyConnectedNet([H1, H2], input_dim=D, num_classes=C,\n",
    "                            reg=reg, weight_scale=5e-2, dtype=np.float64)\n",
    "\n",
    "  loss, grads = model.loss(X, y)\n",
    "  print('Initial loss: ', loss)\n",
    "\n",
    "  for name in sorted(grads):\n",
    "    f = lambda _: model.loss(X, y)[0]\n",
    "    grad_num = eval_numerical_gradient(f, model.params[name], verbose=False, h=1e-5)\n",
    "    print('%s relative error: %.2e' % (name, rel_error(grad_num, grads[name])))"
   ]
  },
  {
   "cell_type": "markdown",
   "metadata": {
    "colab_type": "text",
    "id": "diizn6hR7yre"
   },
   "source": [
    "As another sanity check, make sure you can overfit a small dataset of 50 images. First we will try a three-layer network with 100 units in each hidden layer. You will need to tweak the learning rate and initialization scale, but you should be able to overfit and achieve 100% training accuracy within 20 epochs."
   ]
  },
  {
   "cell_type": "code",
   "execution_count": 6,
   "metadata": {
    "colab": {
     "autoexec": {
      "startup": false,
      "wait_interval": 0
     },
     "base_uri": "https://localhost:8080/",
     "height": 937,
     "output_extras": [
      {
       "item_id": 3
      },
      {
       "item_id": 4
      }
     ]
    },
    "colab_type": "code",
    "executionInfo": {
     "elapsed": 9768,
     "status": "ok",
     "timestamp": 1518696620619,
     "user": {
      "displayName": "Henry Little",
      "photoUrl": "//lh5.googleusercontent.com/-Wl83hLUNubE/AAAAAAAAAAI/AAAAAAAAA3w/vhaG9oTCOsM/s50-c-k-no/photo.jpg",
      "userId": "104571081462489304112"
     },
     "user_tz": -480
    },
    "id": "TL_rbnIR7yrf",
    "outputId": "ec9f6e4f-213b-49b3-f098-0572716b32a1",
    "scrolled": false
   },
   "outputs": [
    {
     "name": "stdout",
     "output_type": "stream",
     "text": [
      "(Iteration 1 / 40) loss: 2.319776\n",
      "(Epoch 0 / 20) train acc: 0.160000; val_acc: 0.107000\n",
      "(Epoch 1 / 20) train acc: 0.180000; val_acc: 0.111000\n",
      "(Epoch 2 / 20) train acc: 0.240000; val_acc: 0.121000\n",
      "(Epoch 3 / 20) train acc: 0.520000; val_acc: 0.113000\n",
      "(Epoch 4 / 20) train acc: 0.460000; val_acc: 0.125000\n",
      "(Epoch 5 / 20) train acc: 0.720000; val_acc: 0.149000\n",
      "(Iteration 11 / 40) loss: 1.617640\n",
      "(Epoch 6 / 20) train acc: 0.720000; val_acc: 0.155000\n",
      "(Epoch 7 / 20) train acc: 0.680000; val_acc: 0.155000\n",
      "(Epoch 8 / 20) train acc: 0.780000; val_acc: 0.171000\n",
      "(Epoch 9 / 20) train acc: 0.780000; val_acc: 0.160000\n",
      "(Epoch 10 / 20) train acc: 0.840000; val_acc: 0.188000\n",
      "(Iteration 21 / 40) loss: 0.846989\n",
      "(Epoch 11 / 20) train acc: 0.880000; val_acc: 0.189000\n",
      "(Epoch 12 / 20) train acc: 0.920000; val_acc: 0.174000\n",
      "(Epoch 13 / 20) train acc: 0.920000; val_acc: 0.167000\n",
      "(Epoch 14 / 20) train acc: 0.960000; val_acc: 0.192000\n",
      "(Epoch 15 / 20) train acc: 0.920000; val_acc: 0.196000\n",
      "(Iteration 31 / 40) loss: 0.611676\n",
      "(Epoch 16 / 20) train acc: 1.000000; val_acc: 0.193000\n",
      "(Epoch 17 / 20) train acc: 0.980000; val_acc: 0.188000\n",
      "(Epoch 18 / 20) train acc: 0.980000; val_acc: 0.198000\n",
      "(Epoch 19 / 20) train acc: 1.000000; val_acc: 0.198000\n",
      "(Epoch 20 / 20) train acc: 1.000000; val_acc: 0.183000\n"
     ]
    },
    {
     "data": {
      "image/png": "[encoded data removed]",
      "text/plain": [
       "<matplotlib.figure.Figure at 0x7fcd1c69a0f0>"
      ]
     },
     "metadata": {},
     "output_type": "display_data"
    }
   ],
   "source": [
    "# TODO: Use a three-layer Net to overfit 50 training examples.\n",
    "\n",
    "num_train = 50\n",
    "small_data = {\n",
    "  'X_train': data['X_train'][:num_train],\n",
    "  'y_train': data['y_train'][:num_train],\n",
    "  'X_val': data['X_val'],\n",
    "  'y_val': data['y_val'],\n",
    "}\n",
    "\n",
    "weight_scale = 1e-2\n",
    "learning_rate = 5.2e-3\n",
    "model = FullyConnectedNet([100, 100],\n",
    "              weight_scale=weight_scale, dtype=np.float64)\n",
    "solver = Solver(model, small_data,\n",
    "                print_every=10, num_epochs=20, batch_size=25,\n",
    "                update_rule='sgd',\n",
    "                optim_config={\n",
    "                  'learning_rate': learning_rate,\n",
    "                }\n",
    "         )\n",
    "solver.train()\n",
    "\n",
    "plt.plot(solver.loss_history, 'o')\n",
    "plt.title('Training loss history')\n",
    "plt.xlabel('Iteration')\n",
    "plt.ylabel('Training loss')\n",
    "plt.show()"
   ]
  },
  {
   "cell_type": "markdown",
   "metadata": {
    "colab_type": "text",
    "id": "RM_R1swU7yri"
   },
   "source": [
    "Now try to use a five-layer network with 100 units on each layer to overfit 50 training examples. Again you will have to adjust the learning rate and weight initialization, but you should be able to achieve 100% training accuracy within 20 epochs."
   ]
  },
  {
   "cell_type": "code",
   "execution_count": 22,
   "metadata": {
    "colab": {
     "autoexec": {
      "startup": false,
      "wait_interval": 0
     },
     "base_uri": "https://localhost:8080/",
     "height": 1005,
     "output_extras": [
      {
       "item_id": 1
      },
      {
       "item_id": 2
      },
      {
       "item_id": 4
      },
      {
       "item_id": 5
      }
     ]
    },
    "colab_type": "code",
    "executionInfo": {
     "elapsed": 16922,
     "status": "ok",
     "timestamp": 1518696219983,
     "user": {
      "displayName": "Henry Little",
      "photoUrl": "//lh5.googleusercontent.com/-Wl83hLUNubE/AAAAAAAAAAI/AAAAAAAAA3w/vhaG9oTCOsM/s50-c-k-no/photo.jpg",
      "userId": "104571081462489304112"
     },
     "user_tz": -480
    },
    "id": "aXY06zx97yrj",
    "outputId": "f55cd587-3881-4dbc-ea2f-a225d632554e"
   },
   "outputs": [
    {
     "name": "stdout",
     "output_type": "stream",
     "text": [
      "(Iteration 1 / 40) loss: 124.016728\n",
      "(Epoch 0 / 20) train acc: 0.100000; val_acc: 0.106000\n",
      "(Epoch 1 / 20) train acc: 0.180000; val_acc: 0.132000\n",
      "(Epoch 2 / 20) train acc: 0.380000; val_acc: 0.137000\n",
      "(Epoch 3 / 20) train acc: 0.420000; val_acc: 0.137000\n",
      "(Epoch 4 / 20) train acc: 0.580000; val_acc: 0.124000\n",
      "(Epoch 5 / 20) train acc: 0.660000; val_acc: 0.135000\n",
      "(Iteration 11 / 40) loss: 5.669851\n",
      "(Epoch 6 / 20) train acc: 0.720000; val_acc: 0.130000\n",
      "(Epoch 7 / 20) train acc: 0.920000; val_acc: 0.140000\n",
      "(Epoch 8 / 20) train acc: 0.980000; val_acc: 0.141000\n",
      "(Epoch 9 / 20) train acc: 1.000000; val_acc: 0.136000\n",
      "(Epoch 10 / 20) train acc: 1.000000; val_acc: 0.136000\n",
      "(Iteration 21 / 40) loss: 0.000484\n",
      "(Epoch 11 / 20) train acc: 1.000000; val_acc: 0.136000\n",
      "(Epoch 12 / 20) train acc: 1.000000; val_acc: 0.136000\n",
      "(Epoch 13 / 20) train acc: 1.000000; val_acc: 0.136000\n",
      "(Epoch 14 / 20) train acc: 1.000000; val_acc: 0.136000\n",
      "(Epoch 15 / 20) train acc: 1.000000; val_acc: 0.136000\n",
      "(Iteration 31 / 40) loss: 0.000056\n",
      "(Epoch 16 / 20) train acc: 1.000000; val_acc: 0.136000\n",
      "(Epoch 17 / 20) train acc: 1.000000; val_acc: 0.136000\n",
      "(Epoch 18 / 20) train acc: 1.000000; val_acc: 0.137000\n",
      "(Epoch 19 / 20) train acc: 1.000000; val_acc: 0.137000\n",
      "(Epoch 20 / 20) train acc: 1.000000; val_acc: 0.137000\n"
     ]
    },
    {
     "data": {
      "image/png": "[encoded data removed]",
      "text/plain": [
       "<matplotlib.figure.Figure at 0x7fcceeb682e8>"
      ]
     },
     "metadata": {},
     "output_type": "display_data"
    }
   ],
   "source": [
    "# TODO: Use a five-layer Net to overfit 50 training examples.\n",
    "\n",
    "num_train = 50\n",
    "small_data = {\n",
    "  'X_train': data['X_train'][:num_train],\n",
    "  'y_train': data['y_train'][:num_train],\n",
    "  'X_val': data['X_val'],\n",
    "  'y_val': data['y_val'],\n",
    "}\n",
    "\n",
    "learning_rate = 3.5e-4\n",
    "weight_scale = 1e-1\n",
    "model = FullyConnectedNet([100, 100, 100, 100],\n",
    "                weight_scale=weight_scale, dtype=np.float64)\n",
    "solver = Solver(model, small_data,\n",
    "                print_every=10, num_epochs=20, batch_size=25,\n",
    "                update_rule='sgd',\n",
    "                optim_config={\n",
    "                  'learning_rate': learning_rate,\n",
    "                }\n",
    "         )\n",
    "solver.train()\n",
    "\n",
    "plt.plot(solver.loss_history, 'o')\n",
    "plt.title('Training loss history')\n",
    "plt.xlabel('Iteration')\n",
    "plt.ylabel('Training loss')\n",
    "plt.show()"
   ]
  },
  {
   "cell_type": "markdown",
   "metadata": {
    "colab_type": "text",
    "id": "AYXMfIMQ7yrn"
   },
   "source": [
    "# Inline question: \n",
    "Did you notice anything about the comparative difficulty of training the three-layer net vs training the five layer net?\n",
    "\n",
    "# Answer:\n",
    "[FILL THIS IN]\n"
   ]
  },
  {
   "cell_type": "markdown",
   "metadata": {
    "colab_type": "text",
    "id": "VMSUmTEF7yrp"
   },
   "source": [
    "# Update rules\n",
    "So far we have used vanilla stochastic gradient descent (SGD) as our update rule. More sophisticated update rules can make it easier to train deep networks. We will implement a few of the most commonly used update rules and compare them to vanilla SGD."
   ]
  },
  {
   "cell_type": "markdown",
   "metadata": {
    "colab_type": "text",
    "id": "LByboQin7yrq"
   },
   "source": [
    "# SGD+Momentum\n",
    "Stochastic gradient descent with momentum is a widely used update rule that tends to make deep networks converge faster than vanilla stochstic gradient descent.\n",
    "\n",
    "Open the file `cs231n/optim.py` and read the documentation at the top of the file to make sure you understand the API. Implement the SGD+momentum update rule in the function `sgd_momentum` and run the following to check your implementation. You should see errors less than 1e-8."
   ]
  },
  {
   "cell_type": "code",
   "execution_count": 3,
   "metadata": {
    "colab": {
     "autoexec": {
      "startup": false,
      "wait_interval": 0
     }
    },
    "colab_type": "code",
    "id": "uBPAMqTo7yrr",
    "scrolled": true
   },
   "outputs": [
    {
     "name": "stdout",
     "output_type": "stream",
     "text": [
      "next_w error:  8.882347033505819e-09\n",
      "velocity error:  4.269287743278663e-09\n"
     ]
    }
   ],
   "source": [
    "from cs231n.optim import sgd_momentum\n",
    "\n",
    "N, D = 4, 5\n",
    "w = np.linspace(-0.4, 0.6, num=N*D).reshape(N, D)\n",
    "dw = np.linspace(-0.6, 0.4, num=N*D).reshape(N, D)\n",
    "v = np.linspace(0.6, 0.9, num=N*D).reshape(N, D)\n",
    "\n",
    "config = {'learning_rate': 1e-3, 'velocity': v}\n",
    "next_w, _ = sgd_momentum(w, dw, config=config)\n",
    "\n",
    "expected_next_w = np.asarray([\n",
    "  [ 0.1406,      0.20738947,  0.27417895,  0.34096842,  0.40775789],\n",
    "  [ 0.47454737,  0.54133684,  0.60812632,  0.67491579,  0.74170526],\n",
    "  [ 0.80849474,  0.87528421,  0.94207368,  1.00886316,  1.07565263],\n",
    "  [ 1.14244211,  1.20923158,  1.27602105,  1.34281053,  1.4096    ]])\n",
    "expected_velocity = np.asarray([\n",
    "  [ 0.5406,      0.55475789,  0.56891579, 0.58307368,  0.59723158],\n",
    "  [ 0.61138947,  0.62554737,  0.63970526,  0.65386316,  0.66802105],\n",
    "  [ 0.68217895,  0.69633684,  0.71049474,  0.72465263,  0.73881053],\n",
    "  [ 0.75296842,  0.76712632,  0.78128421,  0.79544211,  0.8096    ]])\n",
    "\n",
    "print('next_w error: ', rel_error(next_w, expected_next_w))\n",
    "print('velocity error: ', rel_error(expected_velocity, config['velocity']))"
   ]
  },
  {
   "cell_type": "markdown",
   "metadata": {
    "colab_type": "text",
    "id": "qSQeUY5u7yrt"
   },
   "source": [
    "Once you have done so, run the following to train a six-layer network with both SGD and SGD+momentum. You should see the SGD+momentum update rule converge faster."
   ]
  },
  {
   "cell_type": "code",
   "execution_count": 16,
   "metadata": {
    "colab": {
     "autoexec": {
      "startup": false,
      "wait_interval": 0
     }
    },
    "colab_type": "code",
    "id": "gxBhcj_M7yrv",
    "scrolled": true
   },
   "outputs": [
    {
     "name": "stdout",
     "output_type": "stream",
     "text": [
      "running with  sgd\n",
      "(Iteration 1 / 200) loss: 2.462998\n",
      "(Epoch 0 / 5) train acc: 0.143000; val_acc: 0.095000\n",
      "(Iteration 11 / 200) loss: 2.177542\n",
      "(Iteration 21 / 200) loss: 2.107938\n",
      "(Iteration 31 / 200) loss: 2.160522\n",
      "(Epoch 1 / 5) train acc: 0.273000; val_acc: 0.241000\n",
      "(Iteration 41 / 200) loss: 1.938943\n",
      "(Iteration 51 / 200) loss: 1.951068\n",
      "(Iteration 61 / 200) loss: 2.016495\n",
      "(Iteration 71 / 200) loss: 2.040532\n",
      "(Epoch 2 / 5) train acc: 0.291000; val_acc: 0.237000\n",
      "(Iteration 81 / 200) loss: 1.892677\n",
      "(Iteration 91 / 200) loss: 1.965201\n",
      "(Iteration 101 / 200) loss: 1.818677\n",
      "(Iteration 111 / 200) loss: 1.899200\n",
      "(Epoch 3 / 5) train acc: 0.355000; val_acc: 0.294000\n",
      "(Iteration 121 / 200) loss: 1.752028\n",
      "(Iteration 131 / 200) loss: 1.839101\n",
      "(Iteration 141 / 200) loss: 1.774262\n",
      "(Iteration 151 / 200) loss: 1.793982\n",
      "(Epoch 4 / 5) train acc: 0.413000; val_acc: 0.316000\n",
      "(Iteration 161 / 200) loss: 1.797517\n",
      "(Iteration 171 / 200) loss: 1.722967\n",
      "(Iteration 181 / 200) loss: 1.641765\n",
      "(Iteration 191 / 200) loss: 1.803499\n",
      "(Epoch 5 / 5) train acc: 0.434000; val_acc: 0.339000\n",
      "\n",
      "running with  sgd_momentum\n",
      "(Iteration 1 / 200) loss: 2.689091\n",
      "(Epoch 0 / 5) train acc: 0.087000; val_acc: 0.101000\n",
      "(Iteration 11 / 200) loss: 2.115442\n",
      "(Iteration 21 / 200) loss: 1.943994\n",
      "(Iteration 31 / 200) loss: 1.976564\n",
      "(Epoch 1 / 5) train acc: 0.317000; val_acc: 0.301000\n",
      "(Iteration 41 / 200) loss: 1.627367\n",
      "(Iteration 51 / 200) loss: 1.565335\n",
      "(Iteration 61 / 200) loss: 1.770342\n",
      "(Iteration 71 / 200) loss: 1.731052\n",
      "(Epoch 2 / 5) train acc: 0.374000; val_acc: 0.346000\n",
      "(Iteration 81 / 200) loss: 1.784545\n",
      "(Iteration 91 / 200) loss: 1.676842\n",
      "(Iteration 101 / 200) loss: 1.496564\n",
      "(Iteration 111 / 200) loss: 1.611089\n",
      "(Epoch 3 / 5) train acc: 0.459000; val_acc: 0.342000\n",
      "(Iteration 121 / 200) loss: 1.482699\n",
      "(Iteration 131 / 200) loss: 1.341726\n",
      "(Iteration 141 / 200) loss: 1.521230\n",
      "(Iteration 151 / 200) loss: 1.543286\n",
      "(Epoch 4 / 5) train acc: 0.497000; val_acc: 0.362000\n",
      "(Iteration 161 / 200) loss: 1.325411\n",
      "(Iteration 171 / 200) loss: 1.625022\n",
      "(Iteration 181 / 200) loss: 1.359093\n",
      "(Iteration 191 / 200) loss: 1.389726\n",
      "(Epoch 5 / 5) train acc: 0.519000; val_acc: 0.360000\n",
      "\n"
     ]
    },
    {
     "name": "stderr",
     "output_type": "stream",
     "text": [
      "/home/lic/.local/lib/python3.6/site-packages/matplotlib/cbook/deprecation.py:106: MatplotlibDeprecationWarning: Adding an axes using the same arguments as a previous axes currently reuses the earlier instance.  In a future version, a new instance will always be created and returned.  Meanwhile, this warning can be suppressed, and the future behavior ensured, by passing a unique label to each axes instance.\n",
      "  warnings.warn(message, mplDeprecation, stacklevel=1)\n"
     ]
    },
    {
     "data": {
      "image/png": "[encoded data removed]",
      "text/plain": [
       "<matplotlib.figure.Figure at 0x7f8339ec3cc0>"
      ]
     },
     "metadata": {},
     "output_type": "display_data"
    }
   ],
   "source": [
    "num_train = 4000\n",
    "small_data = {\n",
    "  'X_train': data['X_train'][:num_train],\n",
    "  'y_train': data['y_train'][:num_train],\n",
    "  'X_val': data['X_val'],\n",
    "  'y_val': data['y_val'],\n",
    "}\n",
    "\n",
    "solvers = {}\n",
    "\n",
    "for update_rule in ['sgd', 'sgd_momentum']:\n",
    "  print('running with ', update_rule)\n",
    "  model = FullyConnectedNet([100, 100, 100, 100, 100], weight_scale=5e-2)\n",
    "\n",
    "  solver = Solver(model, small_data,\n",
    "                  num_epochs=5, batch_size=100,\n",
    "                  update_rule=update_rule,\n",
    "                  optim_config={\n",
    "                    'learning_rate': 1e-2,\n",
    "                  },\n",
    "                  verbose=True)\n",
    "  solvers[update_rule] = solver\n",
    "  solver.train()\n",
    "  print()\n",
    "\n",
    "plt.subplot(3, 1, 1)\n",
    "plt.title('Training loss')\n",
    "plt.xlabel('Iteration')\n",
    "\n",
    "plt.subplot(3, 1, 2)\n",
    "plt.title('Training accuracy')\n",
    "plt.xlabel('Epoch')\n",
    "\n",
    "plt.subplot(3, 1, 3)\n",
    "plt.title('Validation accuracy')\n",
    "plt.xlabel('Epoch')\n",
    "\n",
    "for update_rule, solver in list(solvers.items()):\n",
    "  plt.subplot(3, 1, 1)\n",
    "  plt.plot(solver.loss_history, 'o', label=update_rule)\n",
    "  \n",
    "  plt.subplot(3, 1, 2)\n",
    "  plt.plot(solver.train_acc_history, '-o', label=update_rule)\n",
    "\n",
    "  plt.subplot(3, 1, 3)\n",
    "  plt.plot(solver.val_acc_history, '-o', label=update_rule)\n",
    "  \n",
    "for i in [1, 2, 3]:\n",
    "  plt.subplot(3, 1, i)\n",
    "  plt.legend(loc='upper center', ncol=4)\n",
    "plt.gcf().set_size_inches(15, 15)\n",
    "plt.show()"
   ]
  },
  {
   "cell_type": "markdown",
   "metadata": {
    "colab_type": "text",
    "id": "pdV9pvPS7yrx"
   },
   "source": [
    "# RMSProp and Adam\n",
    "RMSProp [1] and Adam [2] are update rules that set per-parameter learning rates by using a running average of the second moments of gradients.\n",
    "\n",
    "In the file `cs231n/optim.py`, implement the RMSProp update rule in the `rmsprop` function and implement the Adam update rule in the `adam` function, and check your implementations using the tests below.\n",
    "\n",
    "[1] Tijmen Tieleman and Geoffrey Hinton. \"Lecture 6.5-rmsprop: Divide the gradient by a running average of its recent magnitude.\" COURSERA: Neural Networks for Machine Learning 4 (2012).\n",
    "\n",
    "[2] Diederik Kingma and Jimmy Ba, \"Adam: A Method for Stochastic Optimization\", ICLR 2015."
   ]
  },
  {
   "cell_type": "code",
   "execution_count": 17,
   "metadata": {
    "colab": {
     "autoexec": {
      "startup": false,
      "wait_interval": 0
     }
    },
    "colab_type": "code",
    "id": "JsdQB0Gl7yrx"
   },
   "outputs": [
    {
     "name": "stdout",
     "output_type": "stream",
     "text": [
      "next_w error:  9.524687511038133e-08\n",
      "cache error:  2.6477955807156126e-09\n"
     ]
    }
   ],
   "source": [
    "# Test RMSProp implementation; you should see errors less than 1e-7\n",
    "from cs231n.optim import rmsprop\n",
    "\n",
    "N, D = 4, 5\n",
    "w = np.linspace(-0.4, 0.6, num=N*D).reshape(N, D)\n",
    "dw = np.linspace(-0.6, 0.4, num=N*D).reshape(N, D)\n",
    "cache = np.linspace(0.6, 0.9, num=N*D).reshape(N, D)\n",
    "\n",
    "config = {'learning_rate': 1e-2, 'cache': cache}\n",
    "next_w, _ = rmsprop(w, dw, config=config)\n",
    "\n",
    "expected_next_w = np.asarray([\n",
    "  [-0.39223849, -0.34037513, -0.28849239, -0.23659121, -0.18467247],\n",
    "  [-0.132737,   -0.08078555, -0.02881884,  0.02316247,  0.07515774],\n",
    "  [ 0.12716641,  0.17918792,  0.23122175,  0.28326742,  0.33532447],\n",
    "  [ 0.38739248,  0.43947102,  0.49155973,  0.54365823,  0.59576619]])\n",
    "expected_cache = np.asarray([\n",
    "  [ 0.5976,      0.6126277,   0.6277108,   0.64284931,  0.65804321],\n",
    "  [ 0.67329252,  0.68859723,  0.70395734,  0.71937285,  0.73484377],\n",
    "  [ 0.75037008,  0.7659518,   0.78158892,  0.79728144,  0.81302936],\n",
    "  [ 0.82883269,  0.84469141,  0.86060554,  0.87657507,  0.8926    ]])\n",
    "\n",
    "print('next_w error: ', rel_error(expected_next_w, next_w))\n",
    "print('cache error: ', rel_error(expected_cache, config['cache']))"
   ]
  },
  {
   "cell_type": "code",
   "execution_count": 18,
   "metadata": {
    "colab": {
     "autoexec": {
      "startup": false,
      "wait_interval": 0
     }
    },
    "colab_type": "code",
    "id": "mG11458a7yrz"
   },
   "outputs": [
    {
     "name": "stdout",
     "output_type": "stream",
     "text": [
      "[[-0.40094747 -0.34836187 -0.29577703 -0.24319299 -0.19060977]\n",
      " [-0.1380274  -0.08544591 -0.03286534  0.01971428  0.0722929 ]\n",
      " [ 0.1248705   0.17744702  0.23002243  0.28259667  0.33516969]\n",
      " [ 0.38774145  0.44031188  0.49288093  0.54544852  0.59801459]]\n",
      "next_w error:  1.1395691798535431e-07\n",
      "v error:  4.208314038113071e-09\n",
      "m error:  4.214963193114416e-09\n"
     ]
    }
   ],
   "source": [
    "# Test Adam implementation; you should see errors around 1e-7 or less\n",
    "from cs231n.optim import adam\n",
    "\n",
    "N, D = 4, 5\n",
    "w = np.linspace(-0.4, 0.6, num=N*D).reshape(N, D)\n",
    "dw = np.linspace(-0.6, 0.4, num=N*D).reshape(N, D)\n",
    "m = np.linspace(0.6, 0.9, num=N*D).reshape(N, D)\n",
    "v = np.linspace(0.7, 0.5, num=N*D).reshape(N, D)\n",
    "\n",
    "config = {'learning_rate': 1e-2, 'm': m, 'v': v, 't': 5}\n",
    "next_w, _ = adam(w, dw, config=config)\n",
    "\n",
    "expected_next_w = np.asarray([\n",
    "  [-0.40094747, -0.34836187, -0.29577703, -0.24319299, -0.19060977],\n",
    "  [-0.1380274,  -0.08544591, -0.03286534,  0.01971428,  0.0722929],\n",
    "  [ 0.1248705,   0.17744702,  0.23002243,  0.28259667,  0.33516969],\n",
    "  [ 0.38774145,  0.44031188,  0.49288093,  0.54544852,  0.59801459]])\n",
    "expected_v = np.asarray([\n",
    "  [ 0.69966,     0.68908382,  0.67851319,  0.66794809,  0.65738853,],\n",
    "  [ 0.64683452,  0.63628604,  0.6257431,   0.61520571,  0.60467385,],\n",
    "  [ 0.59414753,  0.58362676,  0.57311152,  0.56260183,  0.55209767,],\n",
    "  [ 0.54159906,  0.53110598,  0.52061845,  0.51013645,  0.49966,   ]])\n",
    "expected_m = np.asarray([\n",
    "  [ 0.48,        0.49947368,  0.51894737,  0.53842105,  0.55789474],\n",
    "  [ 0.57736842,  0.59684211,  0.61631579,  0.63578947,  0.65526316],\n",
    "  [ 0.67473684,  0.69421053,  0.71368421,  0.73315789,  0.75263158],\n",
    "  [ 0.77210526,  0.79157895,  0.81105263,  0.83052632,  0.85      ]])\n",
    "\n",
    "print('next_w error: ', rel_error(expected_next_w, next_w))\n",
    "print('v error: ', rel_error(expected_v, config['v']))\n",
    "print('m error: ', rel_error(expected_m, config['m']))"
   ]
  },
  {
   "cell_type": "markdown",
   "metadata": {
    "colab_type": "text",
    "id": "3n3m0tyd7yr2"
   },
   "source": [
    "Once you have debugged your RMSProp and Adam implementations, run the following to train a pair of deep networks using these new update rules:"
   ]
  },
  {
   "cell_type": "code",
   "execution_count": 20,
   "metadata": {
    "colab": {
     "autoexec": {
      "startup": false,
      "wait_interval": 0
     }
    },
    "colab_type": "code",
    "id": "fconWUny7yr2"
   },
   "outputs": [
    {
     "name": "stdout",
     "output_type": "stream",
     "text": [
      "running with  adam\n",
      "(Iteration 1 / 200) loss: 2.496066\n",
      "(Epoch 0 / 5) train acc: 0.104000; val_acc: 0.155000\n",
      "(Iteration 11 / 200) loss: 2.196112\n",
      "(Iteration 21 / 200) loss: 1.903640\n",
      "(Iteration 31 / 200) loss: 1.917531\n",
      "(Epoch 1 / 5) train acc: 0.388000; val_acc: 0.328000\n",
      "(Iteration 41 / 200) loss: 1.691060\n",
      "(Iteration 51 / 200) loss: 1.767330\n",
      "(Iteration 61 / 200) loss: 1.622983\n",
      "(Iteration 71 / 200) loss: 1.569445\n",
      "(Epoch 2 / 5) train acc: 0.476000; val_acc: 0.371000\n",
      "(Iteration 81 / 200) loss: 1.556274\n",
      "(Iteration 91 / 200) loss: 1.514444\n",
      "(Iteration 101 / 200) loss: 1.595668\n",
      "(Iteration 111 / 200) loss: 1.420307\n",
      "(Epoch 3 / 5) train acc: 0.484000; val_acc: 0.373000\n",
      "(Iteration 121 / 200) loss: 1.446491\n",
      "(Iteration 131 / 200) loss: 1.426849\n",
      "(Iteration 141 / 200) loss: 1.579054\n",
      "(Iteration 151 / 200) loss: 1.363602\n",
      "(Epoch 4 / 5) train acc: 0.551000; val_acc: 0.378000\n",
      "(Iteration 161 / 200) loss: 1.291780\n",
      "(Iteration 171 / 200) loss: 1.257524\n",
      "(Iteration 181 / 200) loss: 1.213193\n",
      "(Iteration 191 / 200) loss: 1.225185\n",
      "(Epoch 5 / 5) train acc: 0.565000; val_acc: 0.396000\n",
      "\n",
      "running with  rmsprop\n",
      "(Iteration 1 / 200) loss: 2.690791\n",
      "(Epoch 0 / 5) train acc: 0.139000; val_acc: 0.153000\n",
      "(Iteration 11 / 200) loss: 2.099413\n",
      "(Iteration 21 / 200) loss: 1.956615\n",
      "(Iteration 31 / 200) loss: 1.946107\n",
      "(Epoch 1 / 5) train acc: 0.349000; val_acc: 0.298000\n",
      "(Iteration 41 / 200) loss: 1.976813\n",
      "(Iteration 51 / 200) loss: 1.629823\n",
      "(Iteration 61 / 200) loss: 1.764936\n",
      "(Iteration 71 / 200) loss: 1.730818\n",
      "(Epoch 2 / 5) train acc: 0.436000; val_acc: 0.339000\n",
      "(Iteration 81 / 200) loss: 1.599925\n",
      "(Iteration 91 / 200) loss: 1.784388\n",
      "(Iteration 101 / 200) loss: 1.674675\n",
      "(Iteration 111 / 200) loss: 1.644609\n",
      "(Epoch 3 / 5) train acc: 0.451000; val_acc: 0.351000\n",
      "(Iteration 121 / 200) loss: 1.748030\n",
      "(Iteration 131 / 200) loss: 1.464275\n",
      "(Iteration 141 / 200) loss: 1.690501\n",
      "(Iteration 151 / 200) loss: 1.353123\n",
      "(Epoch 4 / 5) train acc: 0.477000; val_acc: 0.360000\n",
      "(Iteration 161 / 200) loss: 1.353037\n",
      "(Iteration 171 / 200) loss: 1.467844\n",
      "(Iteration 181 / 200) loss: 1.308070\n",
      "(Iteration 191 / 200) loss: 1.458098\n",
      "(Epoch 5 / 5) train acc: 0.511000; val_acc: 0.357000\n",
      "\n"
     ]
    },
    {
     "name": "stderr",
     "output_type": "stream",
     "text": [
      "/home/lic/.local/lib/python3.6/site-packages/matplotlib/cbook/deprecation.py:106: MatplotlibDeprecationWarning: Adding an axes using the same arguments as a previous axes currently reuses the earlier instance.  In a future version, a new instance will always be created and returned.  Meanwhile, this warning can be suppressed, and the future behavior ensured, by passing a unique label to each axes instance.\n",
      "  warnings.warn(message, mplDeprecation, stacklevel=1)\n"
     ]
    },
    {
     "data": {
      "image/png": "[encoded data removed]",
      "text/plain": [
       "<matplotlib.figure.Figure at 0x7f8337ce4c18>"
      ]
     },
     "metadata": {},
     "output_type": "display_data"
    }
   ],
   "source": [
    "learning_rates = {'rmsprop': 1e-4, 'adam': 1e-3}\n",
    "for update_rule in ['adam', 'rmsprop']:\n",
    "  print('running with ', update_rule)\n",
    "  model = FullyConnectedNet([100, 100, 100, 100, 100], weight_scale=5e-2)\n",
    "\n",
    "  solver = Solver(model, small_data,\n",
    "                  num_epochs=5, batch_size=100,\n",
    "                  update_rule=update_rule,\n",
    "                  optim_config={\n",
    "                    'learning_rate': learning_rates[update_rule]\n",
    "                  },\n",
    "                  verbose=True)\n",
    "  solvers[update_rule] = solver\n",
    "  solver.train()\n",
    "  print()\n",
    "\n",
    "plt.subplot(3, 1, 1)\n",
    "plt.title('Training loss')\n",
    "plt.xlabel('Iteration')\n",
    "\n",
    "plt.subplot(3, 1, 2)\n",
    "plt.title('Training accuracy')\n",
    "plt.xlabel('Epoch')\n",
    "\n",
    "plt.subplot(3, 1, 3)\n",
    "plt.title('Validation accuracy')\n",
    "plt.xlabel('Epoch')\n",
    "\n",
    "for update_rule, solver in list(solvers.items()):\n",
    "  plt.subplot(3, 1, 1)\n",
    "  plt.plot(solver.loss_history, 'o', label=update_rule)\n",
    "  \n",
    "  plt.subplot(3, 1, 2)\n",
    "  plt.plot(solver.train_acc_history, '-o', label=update_rule)\n",
    "\n",
    "  plt.subplot(3, 1, 3)\n",
    "  plt.plot(solver.val_acc_history, '-o', label=update_rule)\n",
    "  \n",
    "for i in [1, 2, 3]:\n",
    "  plt.subplot(3, 1, i)\n",
    "  plt.legend(loc='upper center', ncol=4)\n",
    "plt.gcf().set_size_inches(15, 15)\n",
    "plt.show()"
   ]
  },
  {
   "cell_type": "markdown",
   "metadata": {
    "colab_type": "text",
    "id": "YKzdVG7Q7yr4"
   },
   "source": [
    "# Train a good model!\n",
    "Train the best fully-connected model that you can on CIFAR-10, storing your best model in the `best_model` variable. We require you to get at least 50% accuracy on the validation set using a fully-connected net.\n",
    "\n",
    "If you are careful it should be possible to get accuracies above 55%, but we don't require it for this part and won't assign extra credit for doing so. Later in the assignment we will ask you to train the best convolutional network that you can on CIFAR-10, and we would prefer that you spend your effort working on convolutional nets rather than fully-connected nets.\n",
    "\n",
    "You might find it useful to complete the `BatchNormalization.ipynb` and `Dropout.ipynb` notebooks before completing this part, since those techniques can help you train powerful models."
   ]
  },
  {
   "cell_type": "code",
   "execution_count": 0,
   "metadata": {
    "colab": {
     "autoexec": {
      "startup": false,
      "wait_interval": 0
     }
    },
    "colab_type": "code",
    "id": "J3wxTD6u7yr4"
   },
   "outputs": [],
   "source": [
    "best_model = None\n",
    "################################################################################\n",
    "# TODO: Train the best FullyConnectedNet that you can on CIFAR-10. You might   #\n",
    "# batch normalization and dropout useful. Store your best model in the         #\n",
    "# best_model variable.                                                         #\n",
    "################################################################################\n",
    "pass\n",
    "################################################################################\n",
    "#                              END OF YOUR CODE                                #\n",
    "################################################################################"
   ]
  },
  {
   "cell_type": "markdown",
   "metadata": {
    "colab_type": "text",
    "id": "9892it_77yr6"
   },
   "source": [
    "# Test you model\n",
    "Run your best model on the validation and test sets. You should achieve above 50% accuracy on the validation set."
   ]
  },
  {
   "cell_type": "code",
   "execution_count": 0,
   "metadata": {
    "colab": {
     "autoexec": {
      "startup": false,
      "wait_interval": 0
     }
    },
    "colab_type": "code",
    "id": "AXRyDo5F7yr7"
   },
   "outputs": [],
   "source": [
    "y_test_pred = np.argmax(best_model.loss(data['X_test']), axis=1)\n",
    "y_val_pred = np.argmax(best_model.loss(data['X_val']), axis=1)\n",
    "print('Validation set accuracy: ', (y_val_pred == data['y_val']).mean())\n",
    "print('Test set accuracy: ', (y_test_pred == data['y_test']).mean())"
   ]
  }
 ],
 "metadata": {
  "accelerator": "GPU",
  "colab": {
   "collapsed_sections": [],
   "default_view": {},
   "name": "FullyConnectedNets.ipynb",
   "provenance": [],
   "version": "0.3.2",
   "views": {}
  },
  "kernelspec": {
   "display_name": "python3.6.2",
   "language": "python",
   "name": "python3.6.2"
  },
  "language_info": {
   "codemirror_mode": {
    "name": "ipython",
    "version": 3
   },
   "file_extension": ".py",
   "mimetype": "text/x-python",
   "name": "python",
   "nbconvert_exporter": "python",
   "pygments_lexer": "ipython3",
   "version": "3.6.2"
  }
 },
 "nbformat": 4,
 "nbformat_minor": 1
}
